{
 "cells": [
  {
   "cell_type": "code",
   "execution_count": 1,
   "id": "e34290a2",
   "metadata": {
    "_cell_guid": "b1076dfc-b9ad-4769-8c92-a6c4dae69d19",
    "_uuid": "8f2839f25d086af736a60e9eeb907d3b93b6e0e5",
    "execution": {
     "iopub.execute_input": "2024-12-30T18:10:00.636317Z",
     "iopub.status.busy": "2024-12-30T18:10:00.636001Z",
     "iopub.status.idle": "2024-12-30T18:10:00.995710Z",
     "shell.execute_reply": "2024-12-30T18:10:00.994822Z"
    },
    "papermill": {
     "duration": 0.367298,
     "end_time": "2024-12-30T18:10:00.997533",
     "exception": false,
     "start_time": "2024-12-30T18:10:00.630235",
     "status": "completed"
    },
    "tags": []
   },
   "outputs": [],
   "source": [
    "import numpy as np \n",
    "import pandas as pd \n",
    "import matplotlib.pyplot as plt"
   ]
  },
  {
   "cell_type": "code",
   "execution_count": 2,
   "id": "d46998ca",
   "metadata": {
    "execution": {
     "iopub.execute_input": "2024-12-30T18:10:01.007021Z",
     "iopub.status.busy": "2024-12-30T18:10:01.006544Z",
     "iopub.status.idle": "2024-12-30T18:10:04.202829Z",
     "shell.execute_reply": "2024-12-30T18:10:04.201988Z"
    },
    "papermill": {
     "duration": 3.202821,
     "end_time": "2024-12-30T18:10:04.204650",
     "exception": false,
     "start_time": "2024-12-30T18:10:01.001829",
     "status": "completed"
    },
    "tags": []
   },
   "outputs": [],
   "source": [
    "data = pd.read_csv('/kaggle/input/digit-recognizer/train.csv')"
   ]
  },
  {
   "cell_type": "code",
   "execution_count": 3,
   "id": "6f5111de",
   "metadata": {
    "execution": {
     "iopub.execute_input": "2024-12-30T18:10:04.213491Z",
     "iopub.status.busy": "2024-12-30T18:10:04.213097Z",
     "iopub.status.idle": "2024-12-30T18:10:04.235725Z",
     "shell.execute_reply": "2024-12-30T18:10:04.234637Z"
    },
    "papermill": {
     "duration": 0.028939,
     "end_time": "2024-12-30T18:10:04.237543",
     "exception": false,
     "start_time": "2024-12-30T18:10:04.208604",
     "status": "completed"
    },
    "tags": []
   },
   "outputs": [
    {
     "data": {
      "text/html": [
       "<div>\n",
       "<style scoped>\n",
       "    .dataframe tbody tr th:only-of-type {\n",
       "        vertical-align: middle;\n",
       "    }\n",
       "\n",
       "    .dataframe tbody tr th {\n",
       "        vertical-align: top;\n",
       "    }\n",
       "\n",
       "    .dataframe thead th {\n",
       "        text-align: right;\n",
       "    }\n",
       "</style>\n",
       "<table border=\"1\" class=\"dataframe\">\n",
       "  <thead>\n",
       "    <tr style=\"text-align: right;\">\n",
       "      <th></th>\n",
       "      <th>label</th>\n",
       "      <th>pixel0</th>\n",
       "      <th>pixel1</th>\n",
       "      <th>pixel2</th>\n",
       "      <th>pixel3</th>\n",
       "      <th>pixel4</th>\n",
       "      <th>pixel5</th>\n",
       "      <th>pixel6</th>\n",
       "      <th>pixel7</th>\n",
       "      <th>pixel8</th>\n",
       "      <th>...</th>\n",
       "      <th>pixel774</th>\n",
       "      <th>pixel775</th>\n",
       "      <th>pixel776</th>\n",
       "      <th>pixel777</th>\n",
       "      <th>pixel778</th>\n",
       "      <th>pixel779</th>\n",
       "      <th>pixel780</th>\n",
       "      <th>pixel781</th>\n",
       "      <th>pixel782</th>\n",
       "      <th>pixel783</th>\n",
       "    </tr>\n",
       "  </thead>\n",
       "  <tbody>\n",
       "    <tr>\n",
       "      <th>0</th>\n",
       "      <td>1</td>\n",
       "      <td>0</td>\n",
       "      <td>0</td>\n",
       "      <td>0</td>\n",
       "      <td>0</td>\n",
       "      <td>0</td>\n",
       "      <td>0</td>\n",
       "      <td>0</td>\n",
       "      <td>0</td>\n",
       "      <td>0</td>\n",
       "      <td>...</td>\n",
       "      <td>0</td>\n",
       "      <td>0</td>\n",
       "      <td>0</td>\n",
       "      <td>0</td>\n",
       "      <td>0</td>\n",
       "      <td>0</td>\n",
       "      <td>0</td>\n",
       "      <td>0</td>\n",
       "      <td>0</td>\n",
       "      <td>0</td>\n",
       "    </tr>\n",
       "    <tr>\n",
       "      <th>1</th>\n",
       "      <td>0</td>\n",
       "      <td>0</td>\n",
       "      <td>0</td>\n",
       "      <td>0</td>\n",
       "      <td>0</td>\n",
       "      <td>0</td>\n",
       "      <td>0</td>\n",
       "      <td>0</td>\n",
       "      <td>0</td>\n",
       "      <td>0</td>\n",
       "      <td>...</td>\n",
       "      <td>0</td>\n",
       "      <td>0</td>\n",
       "      <td>0</td>\n",
       "      <td>0</td>\n",
       "      <td>0</td>\n",
       "      <td>0</td>\n",
       "      <td>0</td>\n",
       "      <td>0</td>\n",
       "      <td>0</td>\n",
       "      <td>0</td>\n",
       "    </tr>\n",
       "    <tr>\n",
       "      <th>2</th>\n",
       "      <td>1</td>\n",
       "      <td>0</td>\n",
       "      <td>0</td>\n",
       "      <td>0</td>\n",
       "      <td>0</td>\n",
       "      <td>0</td>\n",
       "      <td>0</td>\n",
       "      <td>0</td>\n",
       "      <td>0</td>\n",
       "      <td>0</td>\n",
       "      <td>...</td>\n",
       "      <td>0</td>\n",
       "      <td>0</td>\n",
       "      <td>0</td>\n",
       "      <td>0</td>\n",
       "      <td>0</td>\n",
       "      <td>0</td>\n",
       "      <td>0</td>\n",
       "      <td>0</td>\n",
       "      <td>0</td>\n",
       "      <td>0</td>\n",
       "    </tr>\n",
       "    <tr>\n",
       "      <th>3</th>\n",
       "      <td>4</td>\n",
       "      <td>0</td>\n",
       "      <td>0</td>\n",
       "      <td>0</td>\n",
       "      <td>0</td>\n",
       "      <td>0</td>\n",
       "      <td>0</td>\n",
       "      <td>0</td>\n",
       "      <td>0</td>\n",
       "      <td>0</td>\n",
       "      <td>...</td>\n",
       "      <td>0</td>\n",
       "      <td>0</td>\n",
       "      <td>0</td>\n",
       "      <td>0</td>\n",
       "      <td>0</td>\n",
       "      <td>0</td>\n",
       "      <td>0</td>\n",
       "      <td>0</td>\n",
       "      <td>0</td>\n",
       "      <td>0</td>\n",
       "    </tr>\n",
       "    <tr>\n",
       "      <th>4</th>\n",
       "      <td>0</td>\n",
       "      <td>0</td>\n",
       "      <td>0</td>\n",
       "      <td>0</td>\n",
       "      <td>0</td>\n",
       "      <td>0</td>\n",
       "      <td>0</td>\n",
       "      <td>0</td>\n",
       "      <td>0</td>\n",
       "      <td>0</td>\n",
       "      <td>...</td>\n",
       "      <td>0</td>\n",
       "      <td>0</td>\n",
       "      <td>0</td>\n",
       "      <td>0</td>\n",
       "      <td>0</td>\n",
       "      <td>0</td>\n",
       "      <td>0</td>\n",
       "      <td>0</td>\n",
       "      <td>0</td>\n",
       "      <td>0</td>\n",
       "    </tr>\n",
       "  </tbody>\n",
       "</table>\n",
       "<p>5 rows × 785 columns</p>\n",
       "</div>"
      ],
      "text/plain": [
       "   label  pixel0  pixel1  pixel2  pixel3  pixel4  pixel5  pixel6  pixel7  \\\n",
       "0      1       0       0       0       0       0       0       0       0   \n",
       "1      0       0       0       0       0       0       0       0       0   \n",
       "2      1       0       0       0       0       0       0       0       0   \n",
       "3      4       0       0       0       0       0       0       0       0   \n",
       "4      0       0       0       0       0       0       0       0       0   \n",
       "\n",
       "   pixel8  ...  pixel774  pixel775  pixel776  pixel777  pixel778  pixel779  \\\n",
       "0       0  ...         0         0         0         0         0         0   \n",
       "1       0  ...         0         0         0         0         0         0   \n",
       "2       0  ...         0         0         0         0         0         0   \n",
       "3       0  ...         0         0         0         0         0         0   \n",
       "4       0  ...         0         0         0         0         0         0   \n",
       "\n",
       "   pixel780  pixel781  pixel782  pixel783  \n",
       "0         0         0         0         0  \n",
       "1         0         0         0         0  \n",
       "2         0         0         0         0  \n",
       "3         0         0         0         0  \n",
       "4         0         0         0         0  \n",
       "\n",
       "[5 rows x 785 columns]"
      ]
     },
     "execution_count": 3,
     "metadata": {},
     "output_type": "execute_result"
    }
   ],
   "source": [
    "data.head()"
   ]
  },
  {
   "cell_type": "code",
   "execution_count": 4,
   "id": "8f850131",
   "metadata": {
    "execution": {
     "iopub.execute_input": "2024-12-30T18:10:04.247027Z",
     "iopub.status.busy": "2024-12-30T18:10:04.246674Z",
     "iopub.status.idle": "2024-12-30T18:10:04.368597Z",
     "shell.execute_reply": "2024-12-30T18:10:04.367452Z"
    },
    "papermill": {
     "duration": 0.128809,
     "end_time": "2024-12-30T18:10:04.370645",
     "exception": false,
     "start_time": "2024-12-30T18:10:04.241836",
     "status": "completed"
    },
    "tags": []
   },
   "outputs": [],
   "source": [
    "data = np.array(data)   # converted dataframe to numpy array "
   ]
  },
  {
   "cell_type": "code",
   "execution_count": 5,
   "id": "60bccc32",
   "metadata": {
    "execution": {
     "iopub.execute_input": "2024-12-30T18:10:04.380054Z",
     "iopub.status.busy": "2024-12-30T18:10:04.379734Z",
     "iopub.status.idle": "2024-12-30T18:10:04.920932Z",
     "shell.execute_reply": "2024-12-30T18:10:04.919867Z"
    },
    "papermill": {
     "duration": 0.548182,
     "end_time": "2024-12-30T18:10:04.923056",
     "exception": false,
     "start_time": "2024-12-30T18:10:04.374874",
     "status": "completed"
    },
    "tags": []
   },
   "outputs": [],
   "source": [
    "m,n = data.shape\n",
    "np.random.shuffle(data)"
   ]
  },
  {
   "cell_type": "code",
   "execution_count": 6,
   "id": "e2dce595",
   "metadata": {
    "execution": {
     "iopub.execute_input": "2024-12-30T18:10:04.932385Z",
     "iopub.status.busy": "2024-12-30T18:10:04.932042Z",
     "iopub.status.idle": "2024-12-30T18:10:04.936136Z",
     "shell.execute_reply": "2024-12-30T18:10:04.935106Z"
    },
    "papermill": {
     "duration": 0.010489,
     "end_time": "2024-12-30T18:10:04.937755",
     "exception": false,
     "start_time": "2024-12-30T18:10:04.927266",
     "status": "completed"
    },
    "tags": []
   },
   "outputs": [],
   "source": [
    "# Splitting the data \n",
    "data_dev = data[0:1000].T\n",
    "Y_dev = data_dev[0]"
   ]
  },
  {
   "cell_type": "code",
   "execution_count": 7,
   "id": "6a2ebb16",
   "metadata": {
    "execution": {
     "iopub.execute_input": "2024-12-30T18:10:04.946990Z",
     "iopub.status.busy": "2024-12-30T18:10:04.946674Z",
     "iopub.status.idle": "2024-12-30T18:10:04.952178Z",
     "shell.execute_reply": "2024-12-30T18:10:04.951356Z"
    },
    "papermill": {
     "duration": 0.012097,
     "end_time": "2024-12-30T18:10:04.954108",
     "exception": false,
     "start_time": "2024-12-30T18:10:04.942011",
     "status": "completed"
    },
    "tags": []
   },
   "outputs": [],
   "source": [
    "X_dev = data_dev[1:n]\n",
    "X_dev = X_dev / 255.0"
   ]
  },
  {
   "cell_type": "code",
   "execution_count": 8,
   "id": "00d917e8",
   "metadata": {
    "execution": {
     "iopub.execute_input": "2024-12-30T18:10:04.963363Z",
     "iopub.status.busy": "2024-12-30T18:10:04.963021Z",
     "iopub.status.idle": "2024-12-30T18:10:04.967014Z",
     "shell.execute_reply": "2024-12-30T18:10:04.966139Z"
    },
    "papermill": {
     "duration": 0.010182,
     "end_time": "2024-12-30T18:10:04.968530",
     "exception": false,
     "start_time": "2024-12-30T18:10:04.958348",
     "status": "completed"
    },
    "tags": []
   },
   "outputs": [],
   "source": [
    "data_train = data[1000:m].T"
   ]
  },
  {
   "cell_type": "code",
   "execution_count": 9,
   "id": "dd31ec41",
   "metadata": {
    "execution": {
     "iopub.execute_input": "2024-12-30T18:10:04.977949Z",
     "iopub.status.busy": "2024-12-30T18:10:04.977523Z",
     "iopub.status.idle": "2024-12-30T18:10:05.115404Z",
     "shell.execute_reply": "2024-12-30T18:10:05.114426Z"
    },
    "papermill": {
     "duration": 0.14463,
     "end_time": "2024-12-30T18:10:05.117403",
     "exception": false,
     "start_time": "2024-12-30T18:10:04.972773",
     "status": "completed"
    },
    "tags": []
   },
   "outputs": [],
   "source": [
    "Y_train = data_train[0]\n",
    "X_train = data_train[1:n]\n",
    "X_train = X_train / 255.0"
   ]
  },
  {
   "cell_type": "code",
   "execution_count": 10,
   "id": "bae4f478",
   "metadata": {
    "execution": {
     "iopub.execute_input": "2024-12-30T18:10:05.126586Z",
     "iopub.status.busy": "2024-12-30T18:10:05.126258Z",
     "iopub.status.idle": "2024-12-30T18:10:05.136124Z",
     "shell.execute_reply": "2024-12-30T18:10:05.135306Z"
    },
    "papermill": {
     "duration": 0.016269,
     "end_time": "2024-12-30T18:10:05.137837",
     "exception": false,
     "start_time": "2024-12-30T18:10:05.121568",
     "status": "completed"
    },
    "tags": []
   },
   "outputs": [],
   "source": [
    "# All the functions that we need to perform gradient descent on our neural network\n",
    "def init_params():\n",
    "    W1 = np.random.randn(10, 784) * np.sqrt(2/784)\n",
    "    b1 = np.random.rand(10,1) - 0.5\n",
    "    W2 = np.random.randn(10, 10) * np.sqrt(2/10)\n",
    "    b2 = np.random.rand(10,1) - 0.5\n",
    "    return W1,b1,W2,b2\n",
    "\n",
    "def ReLU(Z):\n",
    "    return np.maximum(0,Z)\n",
    "\n",
    "def softmax(Z):\n",
    "    Z_shifted = Z - np.max(Z, axis=0, keepdims=True)\n",
    "    exp_Z = np.exp(Z_shifted)\n",
    "    return exp_Z / np.sum(exp_Z, axis=0, keepdims=True)\n",
    "    \n",
    "def forward_prop(W1,b1,W2,b2,X):\n",
    "    Z1 = W1.dot(X) + b1\n",
    "    A1 = ReLU(Z1)\n",
    "    Z2 = W2.dot(A1) + b2\n",
    "    A2 = softmax(Z2)\n",
    "    return Z1,A1,Z2,A2\n",
    "\n",
    "def one_hot(Y):\n",
    "    one_hot_Y = np.zeros((Y.size,Y.max() +1))\n",
    "    one_hot_Y[np.arange(Y.size), Y] = 1\n",
    "    one_hot_Y = one_hot_Y.T\n",
    "    return one_hot_Y\n",
    "\n",
    "def derive_ReLU(Z):\n",
    "    return Z > 0\n",
    "\n",
    "def back_prop(Z1,A1,Z2,A2,W2,X,Y):\n",
    "    m = Y.size\n",
    "    one_hot_Y = one_hot(Y)\n",
    "    dZ2 = A2 - one_hot_Y\n",
    "    dW2 = 1/m * dZ2.dot(A1.T)\n",
    "    db2 = 1/m * np.sum(dZ2, axis=1, keepdims=True)\n",
    "    dZ1 = W2.T.dot(dZ2) * derive_ReLU(Z1)\n",
    "    dW1 = 1/m * dZ1.dot(X.T)\n",
    "    db1 = 1/m * np.sum(dZ1, axis=1, keepdims=True)\n",
    "    return dW1,db1,dW2,db2\n",
    "\n",
    "def update_params(W1,b1,W2,b2,dW1,db1,dW2,db2, alpha):\n",
    "    W1 = W1 - alpha*dW1\n",
    "    b1 = b1 - alpha*db1\n",
    "    W2 = W2 - alpha*dW2\n",
    "    b2 = b2 - alpha*db2\n",
    "    return W1,b1,W2,b2\n",
    "    "
   ]
  },
  {
   "cell_type": "code",
   "execution_count": 11,
   "id": "2fa57a91",
   "metadata": {
    "execution": {
     "iopub.execute_input": "2024-12-30T18:10:05.147356Z",
     "iopub.status.busy": "2024-12-30T18:10:05.146969Z",
     "iopub.status.idle": "2024-12-30T18:10:05.153459Z",
     "shell.execute_reply": "2024-12-30T18:10:05.152519Z"
    },
    "papermill": {
     "duration": 0.012852,
     "end_time": "2024-12-30T18:10:05.155067",
     "exception": false,
     "start_time": "2024-12-30T18:10:05.142215",
     "status": "completed"
    },
    "tags": []
   },
   "outputs": [],
   "source": [
    "def get_predictions(A2):\n",
    "    return np.argmax(A2,0)\n",
    "\n",
    "def get_accuracy(predictions,Y):\n",
    "    print(predictions,Y)\n",
    "    return np.sum(predictions == Y) / Y.size\n",
    "    \n",
    "def gradient_descent(X,Y,iterations,alpha):\n",
    "    W1,b1,W2,b2 = init_params()\n",
    "    for i in range(iterations):\n",
    "        Z1,A1,Z2,A2 = forward_prop(W1,b1,W2,b2,X)\n",
    "        dW1,db1,dW2,db2 = back_prop(Z1,A1,Z2,A2,W2,X,Y)\n",
    "        W1,b1,W2,b2 = update_params(W1,b1,W2,b2,dW1,db1,dW2,db2, alpha)\n",
    "        if i%50 ==0:\n",
    "            print(\"Iteration: \",i)\n",
    "            print(\"Accuracy: \", get_accuracy(get_predictions(A2),Y))\n",
    "    return W1,b1,W2,b2"
   ]
  },
  {
   "cell_type": "code",
   "execution_count": 12,
   "id": "cb46a5bf",
   "metadata": {
    "execution": {
     "iopub.execute_input": "2024-12-30T18:10:05.164193Z",
     "iopub.status.busy": "2024-12-30T18:10:05.163831Z",
     "iopub.status.idle": "2024-12-30T18:10:55.671997Z",
     "shell.execute_reply": "2024-12-30T18:10:55.670807Z"
    },
    "papermill": {
     "duration": 50.515649,
     "end_time": "2024-12-30T18:10:55.674846",
     "exception": false,
     "start_time": "2024-12-30T18:10:05.159197",
     "status": "completed"
    },
    "tags": []
   },
   "outputs": [
    {
     "name": "stdout",
     "output_type": "stream",
     "text": [
      "Iteration:  0\n",
      "[8 8 7 ... 7 7 0] [9 2 3 ... 0 7 5]\n",
      "Accuracy:  0.12239024390243902\n",
      "Iteration:  50\n",
      "[9 2 5 ... 0 2 1] [9 2 3 ... 0 7 5]\n",
      "Accuracy:  0.7233658536585366\n",
      "Iteration:  100\n",
      "[9 2 3 ... 0 2 8] [9 2 3 ... 0 7 5]\n",
      "Accuracy:  0.8325853658536585\n",
      "Iteration:  150\n",
      "[9 2 3 ... 0 2 5] [9 2 3 ... 0 7 5]\n",
      "Accuracy:  0.8657560975609756\n",
      "Iteration:  200\n",
      "[9 2 3 ... 0 2 5] [9 2 3 ... 0 7 5]\n",
      "Accuracy:  0.8800731707317073\n",
      "Iteration:  250\n",
      "[9 2 3 ... 0 2 5] [9 2 3 ... 0 7 5]\n",
      "Accuracy:  0.8878780487804878\n",
      "Iteration:  300\n",
      "[9 2 3 ... 0 2 5] [9 2 3 ... 0 7 5]\n",
      "Accuracy:  0.8937317073170732\n",
      "Iteration:  350\n",
      "[9 2 3 ... 0 2 5] [9 2 3 ... 0 7 5]\n",
      "Accuracy:  0.8988048780487805\n",
      "Iteration:  400\n",
      "[9 2 3 ... 0 2 5] [9 2 3 ... 0 7 5]\n",
      "Accuracy:  0.9020487804878049\n",
      "Iteration:  450\n",
      "[9 2 3 ... 0 2 5] [9 2 3 ... 0 7 5]\n",
      "Accuracy:  0.9051463414634147\n"
     ]
    }
   ],
   "source": [
    "W1,b1,W2,b2 = gradient_descent(X_train,Y_train,500,0.1)"
   ]
  },
  {
   "cell_type": "code",
   "execution_count": 13,
   "id": "f982b747",
   "metadata": {
    "execution": {
     "iopub.execute_input": "2024-12-30T18:10:55.695553Z",
     "iopub.status.busy": "2024-12-30T18:10:55.693727Z",
     "iopub.status.idle": "2024-12-30T18:10:55.703816Z",
     "shell.execute_reply": "2024-12-30T18:10:55.702847Z"
    },
    "papermill": {
     "duration": 0.023048,
     "end_time": "2024-12-30T18:10:55.706659",
     "exception": false,
     "start_time": "2024-12-30T18:10:55.683611",
     "status": "completed"
    },
    "tags": []
   },
   "outputs": [],
   "source": [
    "def make_predictions(X,W1,b1,W2,b2):\n",
    "    _, _, _,A2 = forward_prop(W1,b1,W2,b2,X)\n",
    "    predictions = get_predictions(A2)\n",
    "    return predictions\n",
    "def test_prediction(index,W1,b1,W2,b2):\n",
    "    current_image = X_train[:, index, None]\n",
    "    prediction = make_predictions(X_train[:, index, None], W1, b1, W2, b2)\n",
    "    label = Y_train[index]\n",
    "    print(\"Prediction: \", prediction)\n",
    "    print(\"Label: \", label)\n",
    "    \n",
    "    current_image = current_image.reshape((28, 28)) * 255\n",
    "    plt.gray()\n",
    "    plt.imshow(current_image, interpolation='nearest')\n",
    "    plt.show()"
   ]
  },
  {
   "cell_type": "code",
   "execution_count": 14,
   "id": "c4a62e5d",
   "metadata": {
    "execution": {
     "iopub.execute_input": "2024-12-30T18:10:55.725097Z",
     "iopub.status.busy": "2024-12-30T18:10:55.724580Z",
     "iopub.status.idle": "2024-12-30T18:10:56.540166Z",
     "shell.execute_reply": "2024-12-30T18:10:56.539068Z"
    },
    "papermill": {
     "duration": 0.82641,
     "end_time": "2024-12-30T18:10:56.541764",
     "exception": false,
     "start_time": "2024-12-30T18:10:55.715354",
     "status": "completed"
    },
    "tags": []
   },
   "outputs": [
    {
     "name": "stdout",
     "output_type": "stream",
     "text": [
      "Prediction:  [9]\n",
      "Label:  9\n"
     ]
    },
    {
     "data": {
      "image/png": "[encoded data removed]",
      "text/plain": [
       "<Figure size 640x480 with 1 Axes>"
      ]
     },
     "metadata": {},
     "output_type": "display_data"
    },
    {
     "name": "stdout",
     "output_type": "stream",
     "text": [
      "Prediction:  [2]\n",
      "Label:  2\n"
     ]
    },
    {
     "data": {
      "image/png": "[encoded data removed]",
      "text/plain": [
       "<Figure size 640x480 with 1 Axes>"
      ]
     },
     "metadata": {},
     "output_type": "display_data"
    },
    {
     "name": "stdout",
     "output_type": "stream",
     "text": [
      "Prediction:  [3]\n",
      "Label:  3\n"
     ]
    },
    {
     "data": {
      "image/png": "[encoded data removed]",
      "text/plain": [
       "<Figure size 640x480 with 1 Axes>"
      ]
     },
     "metadata": {},
     "output_type": "display_data"
    },
    {
     "name": "stdout",
     "output_type": "stream",
     "text": [
      "Prediction:  [7]\n",
      "Label:  7\n"
     ]
    },
    {
     "data": {
      "image/png": "[encoded data removed]",
      "text/plain": [
       "<Figure size 640x480 with 1 Axes>"
      ]
     },
     "metadata": {},
     "output_type": "display_data"
    }
   ],
   "source": [
    "test_prediction(0, W1, b1, W2, b2)\n",
    "test_prediction(1, W1, b1, W2, b2)\n",
    "test_prediction(2, W1, b1, W2, b2)\n",
    "test_prediction(3, W1, b1, W2, b2)"
   ]
  },
  {
   "cell_type": "code",
   "execution_count": 15,
   "id": "3adb569a",
   "metadata": {
    "execution": {
     "iopub.execute_input": "2024-12-30T18:10:56.555013Z",
     "iopub.status.busy": "2024-12-30T18:10:56.554672Z",
     "iopub.status.idle": "2024-12-30T18:10:56.574236Z",
     "shell.execute_reply": "2024-12-30T18:10:56.572174Z"
    },
    "papermill": {
     "duration": 0.028788,
     "end_time": "2024-12-30T18:10:56.576440",
     "exception": false,
     "start_time": "2024-12-30T18:10:56.547652",
     "status": "completed"
    },
    "tags": []
   },
   "outputs": [
    {
     "name": "stdout",
     "output_type": "stream",
     "text": [
      "[5 9 6 8 8 9 4 0 8 6 0 3 3 2 3 1 0 5 9 0 6 3 3 4 1 3 3 0 6 1 6 0 6 6 8 6 2\n",
      " 9 4 5 3 0 6 3 4 3 1 3 9 8 5 2 0 6 7 2 5 2 2 0 5 1 1 2 2 7 2 4 7 7 5 6 1 3\n",
      " 4 5 5 4 6 4 6 7 3 1 2 5 5 0 2 5 8 9 2 2 0 4 5 9 3 9 0 8 6 3 8 4 1 6 8 6 7\n",
      " 8 0 0 7 2 8 8 6 6 9 2 5 0 7 5 4 8 3 7 0 5 7 0 6 5 4 7 9 1 2 1 5 8 1 0 5 8\n",
      " 8 7 2 2 6 0 2 3 7 5 5 0 5 9 8 8 3 9 0 8 9 4 0 4 6 8 3 4 2 6 1 2 1 0 3 7 1\n",
      " 3 3 0 5 1 0 9 8 4 4 9 1 3 2 2 8 3 5 9 3 2 1 5 5 4 6 7 8 2 4 7 2 8 4 0 1 7\n",
      " 6 0 3 5 4 9 7 5 2 7 2 5 2 9 9 4 3 1 9 0 5 0 9 4 6 6 1 8 7 6 5 5 3 1 5 9 3\n",
      " 2 8 6 1 0 0 1 5 6 1 4 1 9 9 1 6 0 9 0 8 6 6 2 8 5 9 3 2 8 8 1 2 7 9 8 7 6\n",
      " 5 6 1 8 9 9 7 3 4 4 2 3 0 6 0 9 0 6 9 4 3 4 6 4 1 9 7 4 4 8 5 9 4 0 6 7 1\n",
      " 7 4 7 0 8 5 9 1 9 6 5 6 9 7 1 2 6 1 4 5 8 8 4 8 4 3 4 1 0 6 3 8 3 7 3 4 5\n",
      " 7 5 2 0 5 9 2 2 5 3 9 0 3 7 0 7 3 0 7 5 6 0 0 4 0 0 0 1 3 6 0 2 3 1 7 6 2\n",
      " 1 0 5 5 3 4 7 0 8 8 6 9 2 3 0 3 4 0 3 3 2 6 5 7 9 5 4 4 7 0 1 1 8 8 7 8 0\n",
      " 0 6 7 6 5 1 5 7 1 4 3 7 2 6 3 2 2 0 9 3 4 3 2 3 1 6 6 8 0 1 3 2 4 9 6 4 7\n",
      " 8 2 4 5 6 3 9 2 2 3 6 9 0 0 5 6 4 6 4 2 7 7 1 5 4 1 0 6 4 9 5 6 8 0 7 5 1\n",
      " 9 6 6 2 2 7 8 1 1 2 7 1 5 2 5 0 7 7 7 5 8 9 3 6 5 2 4 7 7 9 1 8 3 6 1 4 5\n",
      " 7 6 1 4 1 8 0 6 1 4 5 7 9 3 2 5 4 5 2 2 2 1 5 0 9 5 6 7 0 1 0 8 9 9 1 4 9\n",
      " 9 3 0 3 7 9 7 5 9 3 8 8 5 7 1 3 8 6 4 6 3 4 7 7 0 7 9 8 2 9 7 4 1 1 9 7 1\n",
      " 6 3 6 0 6 3 4 9 6 0 4 4 9 6 2 5 5 2 9 5 5 5 1 7 6 0 1 7 4 4 8 6 5 1 0 9 0\n",
      " 3 2 3 2 3 1 3 6 1 0 3 7 9 0 0 2 6 1 0 9 5 9 8 5 1 2 4 1 0 9 4 2 0 2 1 0 2\n",
      " 8 6 8 9 8 9 8 3 8 2 3 3 6 6 4 1 1 3 8 2 6 8 4 4 1 4 7 2 2 5 7 6 6 3 8 7 9\n",
      " 3 4 8 8 8 5 6 0 9 4 8 3 3 2 7 1 3 8 7 2 3 4 9 1 7 9 3 9 9 0 5 6 0 8 2 1 3\n",
      " 9 9 8 3 1 6 8 3 0 7 4 1 5 0 7 4 7 5 8 6 7 2 0 8 8 0 5 9 3 9 5 4 8 3 4 0 3\n",
      " 1 1 0 8 6 0 5 7 4 7 8 8 0 1 4 6 2 8 7 2 1 5 8 5 5 2 3 6 5 7 8 4 7 6 4 9 5\n",
      " 2 2 0 8 6 3 5 4 2 5 9 6 7 5 1 9 8 4 9 5 1 0 7 2 5 5 6 7 3 5 6 2 0 1 7 5 8\n",
      " 3 9 5 8 8 0 1 7 0 3 9 0 7 8 3 6 2 9 1 6 4 1 6 8 2 5 7 3 9 2 8 8 6 9 8 0 1\n",
      " 0 7 6 8 3 5 7 7 5 1 1 4 1 7 2 3 9 9 9 2 1 1 6 4 5 7 4 0 3 0 6 7 4 8 2 3 7\n",
      " 3 2 1 5 6 7 6 2 2 3 1 1 0 4 4 0 3 1 4 2 4 1 2 1 8 1 3 2 7 6 2 8 4 8 4 6 7\n",
      " 3] [6 9 6 8 8 9 4 0 8 6 0 3 3 2 3 1 0 5 9 0 6 3 3 4 1 3 3 0 6 1 6 0 6 6 8 2 2\n",
      " 9 4 5 3 0 6 3 4 3 1 1 9 8 5 2 0 6 7 4 5 2 2 0 5 1 1 2 2 7 2 4 7 7 5 6 1 3\n",
      " 4 8 5 4 6 2 6 7 3 1 2 2 5 0 2 5 8 9 2 2 0 4 5 9 3 9 6 8 6 3 8 4 1 6 8 6 7\n",
      " 8 0 0 7 2 8 8 6 6 9 2 5 0 7 5 4 8 3 7 0 5 7 0 6 5 4 7 9 1 2 1 5 8 1 0 5 8\n",
      " 8 7 2 2 6 0 2 3 7 5 5 0 5 9 6 8 3 7 0 8 9 4 0 4 6 8 3 4 2 4 1 2 1 0 3 7 1\n",
      " 3 3 0 5 1 0 9 8 4 4 9 1 3 2 2 8 3 5 9 3 2 1 5 5 4 6 7 8 3 4 7 2 2 4 0 1 7\n",
      " 6 0 3 5 4 9 7 5 2 7 2 5 2 9 9 4 3 5 9 0 5 0 9 4 6 6 1 8 7 6 5 5 3 1 5 7 3\n",
      " 2 8 6 1 5 0 1 3 6 1 4 1 9 9 1 6 0 9 0 8 6 6 2 8 5 9 5 2 8 8 1 2 7 9 8 7 6\n",
      " 5 6 1 6 9 9 7 3 4 4 2 3 9 6 0 9 0 6 9 4 3 4 6 4 8 9 7 4 4 4 3 9 4 0 6 7 1\n",
      " 7 4 7 0 8 5 9 1 9 6 5 2 9 7 1 2 6 1 4 5 8 8 6 8 4 3 4 1 0 6 3 8 3 7 3 4 6\n",
      " 7 5 4 0 5 9 2 0 5 0 9 0 3 7 0 7 3 0 7 5 6 0 0 4 0 0 0 1 3 6 0 2 3 1 7 6 2\n",
      " 1 0 5 5 3 4 7 0 8 8 6 9 2 3 0 3 4 0 3 3 3 6 8 7 9 5 4 4 7 0 1 1 8 8 7 8 0\n",
      " 0 6 7 4 5 1 5 7 1 4 3 7 2 2 3 2 2 0 9 3 4 3 2 3 1 6 6 5 2 1 3 2 4 5 6 6 7\n",
      " 8 2 4 5 6 3 9 2 2 3 6 9 0 0 5 6 4 6 4 2 7 7 1 5 4 1 0 6 4 9 5 6 8 0 7 5 1\n",
      " 9 6 6 2 2 7 8 1 1 2 7 1 5 2 5 0 7 7 7 5 8 9 3 6 5 2 4 7 7 9 1 8 3 2 1 4 5\n",
      " 7 6 1 4 1 8 0 6 1 4 5 7 9 3 2 5 4 5 2 2 2 1 6 0 9 5 6 7 0 1 0 8 9 9 1 4 9\n",
      " 9 3 0 3 7 9 7 5 9 3 8 8 5 7 1 3 3 6 4 6 3 4 7 9 0 7 9 8 2 9 7 7 1 1 9 7 1\n",
      " 6 3 6 0 5 3 4 9 6 0 7 4 9 6 2 5 5 2 9 5 3 5 1 7 6 0 1 7 4 9 8 6 5 1 0 9 0\n",
      " 3 2 3 2 3 1 3 6 1 0 3 7 9 0 0 2 6 1 0 9 5 9 8 5 1 2 4 1 0 9 4 2 0 2 1 0 2\n",
      " 2 6 8 9 8 9 8 3 8 2 3 3 6 6 4 1 1 3 8 2 6 8 4 4 1 4 7 2 2 5 7 6 6 3 8 7 9\n",
      " 2 4 3 8 8 5 6 0 9 4 8 8 3 2 7 1 3 8 7 2 3 4 9 1 7 9 3 9 9 0 5 6 0 8 2 1 3\n",
      " 9 4 8 3 1 6 8 3 0 7 4 1 5 0 7 4 7 5 8 6 7 6 0 8 8 0 5 9 3 9 5 4 8 3 4 0 3\n",
      " 1 1 0 8 6 0 5 7 4 7 8 8 0 1 4 6 2 3 7 2 1 5 8 5 5 2 3 2 3 7 4 4 7 6 4 3 5\n",
      " 2 0 0 8 6 3 3 4 2 5 2 6 7 5 1 9 8 4 9 5 1 0 9 3 5 5 6 7 3 5 6 2 0 1 7 5 8\n",
      " 3 9 5 8 8 0 1 7 0 3 9 0 5 8 3 2 2 9 1 6 4 1 6 8 2 5 7 5 9 2 8 8 6 9 6 0 1\n",
      " 0 7 6 0 3 5 7 7 5 1 1 4 1 7 1 8 9 9 9 2 1 1 6 4 8 7 4 5 3 2 6 7 4 9 2 3 7\n",
      " 9 2 1 5 6 7 6 2 2 3 1 1 0 4 1 0 3 1 4 2 4 1 2 1 8 5 3 2 7 4 2 8 4 8 4 6 7\n",
      " 3]\n"
     ]
    },
    {
     "data": {
      "text/plain": [
       "0.923"
      ]
     },
     "execution_count": 15,
     "metadata": {},
     "output_type": "execute_result"
    }
   ],
   "source": [
    "dev_predictions = make_predictions(X_dev, W1, b1, W2, b2)\n",
    "get_accuracy(dev_predictions, Y_dev)"
   ]
  },
  {
   "cell_type": "code",
   "execution_count": null,
   "id": "ff404256",
   "metadata": {
    "papermill": {
     "duration": 0.010882,
     "end_time": "2024-12-30T18:10:56.598406",
     "exception": false,
     "start_time": "2024-12-30T18:10:56.587524",
     "status": "completed"
    },
    "tags": []
   },
   "outputs": [],
   "source": []
  }
 ],
 "metadata": {
  "kaggle": {
   "accelerator": "none",
   "dataSources": [
    {
     "databundleVersionId": 861823,
     "sourceId": 3004,
     "sourceType": "competition"
    }
   ],
   "dockerImageVersionId": 30822,
   "isGpuEnabled": false,
   "isInternetEnabled": false,
   "language": "python",
   "sourceType": "notebook"
  },
  "kernelspec": {
   "display_name": "Python 3",
   "language": "python",
   "name": "python3"
  },
  "language_info": {
   "codemirror_mode": {
    "name": "ipython",
    "version": 3
   },
   "file_extension": ".py",
   "mimetype": "text/x-python",
   "name": "python",
   "nbconvert_exporter": "python",
   "pygments_lexer": "ipython3",
   "version": "3.10.12"
  },
  "papermill": {
   "default_parameters": {},
   "duration": 58.555075,
   "end_time": "2024-12-30T18:10:57.130498",
   "environment_variables": {},
   "exception": null,
   "input_path": "__notebook__.ipynb",
   "output_path": "__notebook__.ipynb",
   "parameters": {},
   "start_time": "2024-12-30T18:09:58.575423",
   "version": "2.6.0"
  }
 },
 "nbformat": 4,
 "nbformat_minor": 5
}
